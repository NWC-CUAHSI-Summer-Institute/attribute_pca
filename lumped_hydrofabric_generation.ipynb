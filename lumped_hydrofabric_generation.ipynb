{
 "cells": [
  {
   "cell_type": "code",
   "execution_count": null,
   "metadata": {},
   "outputs": [],
   "source": [
    "# Hydrofabric extent and soil attributes investigation for running in CFE (all flavors) or the LSTM\n",
    "Jeremy Rapp, 6/27/2023, rappjer1@gmail.com"
   ]
  },
  {
   "cell_type": "markdown",
   "metadata": {},
   "source": [
    "## Section 1: Getting appropriate CAMELS shapefile data and basin lists to extract the correct basins"
   ]
  },
  {
   "cell_type": "code",
   "execution_count": null,
   "metadata": {},
   "outputs": [],
   "source": [
    "#Loc of shape files\n",
    "CAMELSshpLoc = r'H:/Shared drives/SI_NextGen_Aridity/hydrofabric/basin_set_full_res/'\n",
    "CAMELSshpFile = 'HCDN_nhru_final_671.shp'\n",
    "basinSelect= 'basin_list_516.txt'\n",
    "\n",
    "\n",
    "\n",
    "#Read in shape file look at attributes\n",
    "CAMELSshp = gpd.read_file(CAMELSshpLoc+CAMELSshpFile)\n",
    "CAMELSshp['gauge_id_len'] = CAMELSshp['hru_id'].map(str).apply(len)\n",
    "#print(allSemiArid['gauge_id_len'].unique())\n",
    "CAMELSshp['gauge_id_str'] = CAMELSshp['hru_id'].map(str)\n",
    "CAMELSshp.loc[CAMELSshp['gauge_id_len'] != 8, 'gauge_id_str'] = '0' + CAMELSshp['gauge_id_str']\n",
    "print(CAMELSshp.head())\n",
    "print(CAMELSshp.describe())\n",
    "\n",
    "#Read in basin list\n",
    "basinList = pd.read_csv(CAMELSshpLoc+basinSelect, header=None, names=['gauge_id'], dtype=str)\n",
    "basinList['gauge_id_len'] = basinList['gauge_id'].map(str).apply(len)\n",
    "#print(allSemiArid['gauge_id_len'].unique())\n",
    "basinList['gauge_id_str'] = basinList['gauge_id'].map(str)\n",
    "basinList.loc[basinList['gauge_id_len'] != 8, 'gauge_id_str'] = '0' + basinList['gauge_id_str']\n",
    "basinList.head()\n",
    "\n",
    "# Now mask the shape file to only include the basins in the basin list, largely because masking is typically faster\n",
    "mask = CAMELSshp['gauge_id_str'].isin(basinList['gauge_id'])\n",
    "filtered_geodf = CAMELSshp[mask]\n",
    "filtered_geodf['gauge_id'] = 'Gage-' + filtered_geodf['gauge_id_str'].astype(str)\n",
    "print(filtered_geodf.head())\n"
   ]
  },
  {
   "cell_type": "markdown",
   "metadata": {},
   "source": [
    "# Now build a dictionary of the locations for the catchment attributes from hydrofabric\n",
    "hydrofabrics_loc = \"G:\\\\Shared drives\\\\SI_NextGen_Aridity\\\\data\\\\CAMELS_Hydrofabric_CUAHSIsubset\\\\Hydrofabrics\\\\Hydrofabrics\\\\\"\n",
    "\n",
    "def search_files_by_name(root_dir, target_file_name, identifying_substring):\n",
    "    # Dictionary to store the paths of the files with target_file_name\n",
    "    # Key: Identifying_Directory, Value: full file path\n",
    "    file_paths = {}\n",
    "\n",
    "    # Walk through the root directory\n",
    "    for current_dir, _, files in os.walk(root_dir):\n",
    "        for file in files:\n",
    "            # Check if the file name matches the target file name\n",
    "            if file == target_file_name:\n",
    "                # Full path of the file\n",
    "                full_file_path = os.path.join(current_dir, file)\n",
    "                \n",
    "                # Extract the Identifying_Directory part of the file path\n",
    "                path_parts = os.path.normpath(full_file_path).split(os.sep)\n",
    "                identifying_directory = None\n",
    "                \n",
    "                # Iterate through path parts to find the identifying_directory\n",
    "                for part in path_parts:\n",
    "                    if part.startswith(identifying_substring):\n",
    "                        identifying_directory = part\n",
    "                        break\n",
    "\n",
    "                # Add the full file path to the dictionary\n",
    "                if identifying_directory:\n",
    "                    file_paths[identifying_directory] = full_file_path\n",
    "\n",
    "    return file_paths\n",
    "\n",
    "# Example usage\n",
    "root_directory = hydrofabrics_loc   # Replace this with the path to your root directory\n",
    "target_file_name = 'catchments.geojson'              # Replace this with the specific file name you are looking for\n",
    "identifying_substring = 'Gage'                   # The substring the identifying directory starts with\n",
    "\n",
    "result = search_files_by_name(root_directory, target_file_name, identifying_substring)"
   ]
  },
  {
   "cell_type": "code",
   "execution_count": null,
   "metadata": {},
   "outputs": [],
   "source": [
    "#Add a column for hydrofabrics area from the individual config geojson files\n",
    "# Each total catchment in the hydrofabric will need to be summed from its smaller parts\n",
    "\n",
    "filtered_geodf['area_CAMELSsqkm'] = filtered_geodf['AREA']/1000000\n",
    "filtered_geodf['area_hydrofabric'] = None\n",
    "\n",
    "for id, filepath in result.items():\n",
    "    gdf = gpd.read_file(filepath)\n",
    "    sum_areasqkm = gdf['areasqkm'].sum()\n",
    "    #print(id)\n",
    "    filtered_geodf.loc[filtered_geodf['gauge_id'] == id, 'area_hydrofabric'] = sum_areasqkm\n",
    "\n",
    "print(filtered_geodf.head())\n"
   ]
  },
  {
   "cell_type": "code",
   "execution_count": null,
   "metadata": {},
   "outputs": [],
   "source": []
  },
  {
   "cell_type": "markdown",
   "metadata": {},
   "source": [
    "## Section 2: Plotting the CAMELS catchments vs the Hydrofabric lumped basins to see how they compare"
   ]
  },
  {
   "cell_type": "code",
   "execution_count": null,
   "metadata": {},
   "outputs": [],
   "source": [
    "matplotlib.rcParams.update(_VSCode_defaultMatplotlib_Params)\n",
    "plt.style.context('seaborn-v0_8-talk')\n",
    "g = sns.FacetGrid(filtered_geodf, height=6)\n",
    "g = g.map(plt.scatter, \"area_CAMELSsqkm\", \"area_hydrofabric\", edgecolor=\"w\")\n",
    "max_value = filtered_geodf['area_CAMELSsqkm'].max()\n",
    "g = g.map(lambda *args, **kwargs: plt.plot([0, max_value], [0, max_value], 'r--'))\n",
    "g.set(title='CAMELS Catchment Area to Lumped Hydrofabric Area (sqKm) \\n Updated 6/30/2023', xlabel='CAMELS Area (sqKm)', ylabel='Hydrofabric Area (sqKm)')\n",
    "\n",
    "# Count the number of points\n",
    "num_points = len(filtered_geodf)\n",
    "\n",
    "# Add the number of points as text to the plot\n",
    "# x_position and y_position should be chosen based on the range of your data\n",
    "x_position = 0.04 * max_value\n",
    "y_position = 15 * max_value\n",
    "plt.text(x_position, y_position, f'Total Catchments from original Export : {num_points}', fontsize=12)\n",
    "plt.show()"
   ]
  },
  {
   "cell_type": "code",
   "execution_count": null,
   "metadata": {},
   "outputs": [],
   "source": [
    "filtered_geodf['area_similarity'] = filtered_geodf['area_hydrofabric'] / filtered_geodf['area_CAMELSsqkm']\n",
    "ratio_cut_off = 2.0\n",
    "no_extremes = filtered_geodf[(filtered_geodf['area_similarity'] < ratio_cut_off) & (filtered_geodf['area_similarity'].notna())]\n",
    "g = sns.FacetGrid(no_extremes, height=6)\n",
    "g = g.map(plt.scatter, \"area_CAMELSsqkm\", \"area_hydrofabric\", edgecolor=\"w\", label= 'Catchment Points')\n",
    "max_value = filtered_geodf['area_CAMELSsqkm'].max()\n",
    "g = g.map(lambda *args, **kwargs: plt.plot([0, max_value], [0, max_value], 'r--', label='1 to 1 Line'))\n",
    "g.set(title='Lumped Hydrofabric Area (km\\u00b2) vs CAMELS Catchment Area (km\\u00b2) \\n Updated 7/3/2023', xlabel='CAMELS Area (km\\u00b2)', ylabel='Hydrofabric Area (km\\u00b2)')\n",
    "\n",
    "\n",
    "# title\n",
    "plt.legend(title='Legend')\n",
    "\n",
    "new_title = 'Legend'\n",
    "# legend = g._legend\n",
    "# legend.set_title(new_title)\n",
    "\n",
    "# # replace labels\n",
    "# new_labels = ['Catchment Points', '1 to 1 Line']\n",
    "# for t, l in zip(legend.texts, new_labels):\n",
    "#     t.set_text(l)\n",
    "\n",
    "# Count the number of points\n",
    "num_points = len(no_extremes)\n",
    "\n",
    "# Add the number of points as text to the plot\n",
    "# x_position and y_position should be chosen based on the range of your data\n",
    "x_position = 0.4 * max_value\n",
    "y_position = 0.04 * max_value\n",
    "plt.text(x_position, y_position, f'Total Catchments (excluding Hydrofabric lumped\\n catchments {ratio_cut_off}x larger than CAMELS)  : {num_points}', fontsize=10)\n",
    "plt.show()"
   ]
  }
 ],
 "metadata": {
  "language_info": {
   "name": "python"
  }
 },
 "nbformat": 4,
 "nbformat_minor": 2
}
